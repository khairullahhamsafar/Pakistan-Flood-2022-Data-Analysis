{
 "cells": [
  {
   "cell_type": "markdown",
   "id": "a687f904",
   "metadata": {},
   "source": [
    "# Pakistan Flood 2022 Data Analysis"
   ]
  },
  {
   "cell_type": "markdown",
   "id": "024e5c85",
   "metadata": {},
   "source": [
    "# Introduction"
   ]
  },
  {
   "cell_type": "markdown",
   "id": "694f700c",
   "metadata": {},
   "source": [
    "<p>In the wake of the devastating floods that struck Pakistan in 2022, this project aims to shed light on the unprecedented climate catastrophe, emphasizing the critical need for immediate action. The calamity, exacerbated by heavier monsoon rains and melting glaciers, underscores the profound impact of climate change on vulnerable regions. Through data-driven insights, we strive to generate awareness, prompt urgent measures, and contribute to understanding and mitigating the far-reaching consequences of such natural disasters.</p>"
   ]
  },
  {
   "cell_type": "markdown",
   "id": "6c29acb9",
   "metadata": {},
   "source": [
    "# Problem Statement"
   ]
  },
  {
   "cell_type": "markdown",
   "id": "603f3a4c",
   "metadata": {},
   "source": [
    "<p>The floods of 2022 in Pakistan pose a multifaceted challenge, causing widespread destruction, loss of life, and displacement. The intertwined factors of climate change, inadequate infrastructure, and economic vulnerabilities amplify the severity of the crisis. Addressing urgent issues such as healthcare, food shortages, and displaced populations becomes paramount. This project aims to unravel the complexities of the disaster, seeking solutions to mitigate its immediate and long-term impacts on affected communities.</p>"
   ]
  },
  {
   "cell_type": "markdown",
   "id": "165fc6d9",
   "metadata": {},
   "source": [
    "# Objectives"
   ]
  },
  {
   "cell_type": "markdown",
   "id": "7cd719a5",
   "metadata": {},
   "source": [
    "1. Uncover the intricate patterns and trends within the 2022 flood data.\n",
    "2. Examine the socio-economic and health crises triggered by the floods.\n",
    "3. Highlight the immediate and long-term impacts on infrastructure, agriculture, and livelihoods.\n",
    "4. Propose insights for effective disaster management and climate resilience.\n",
    "5. Advocate for awareness and urgent action from local and international stakeholders."
   ]
  },
  {
   "cell_type": "markdown",
   "id": "40089850",
   "metadata": {},
   "source": [
    "# About The Data"
   ]
  },
  {
   "cell_type": "markdown",
   "id": "f62a41fc",
   "metadata": {},
   "source": [
    "<p>The dataset used in this project encapsulates the aftermath of the 2022 floods in Pakistan, capturing the toll on lives, infrastructure, and the economy. With variables detailing casualties, injuries, damages, and regional impacts, the data serves as a lens into the magnitude of the disaster. Derived from National Disaster Management Authority (NDMA) records and on-the-ground reports, the dataset is a comprehensive repository facilitating in-depth analysis and storytelling to drive understanding and awareness about the floods' profound implications.</p>"
   ]
  },
  {
   "cell_type": "markdown",
   "id": "9db4d69d",
   "metadata": {},
   "source": [
    "# Importing Necessary Libraries"
   ]
  },
  {
   "cell_type": "code",
   "execution_count": 1,
   "id": "6e01bc55",
   "metadata": {},
   "outputs": [],
   "source": [
    "import pandas as pd\n",
    "import numpy as np\n",
    "import seaborn as sns\n",
    "import matplotlib.pyplot as plt\n",
    "import plotly.express as px\n",
    "from wordcloud import WordCloud, STOPWORDS"
   ]
  },
  {
   "cell_type": "code",
   "execution_count": 2,
   "id": "1cd741e7",
   "metadata": {},
   "outputs": [],
   "source": [
    "ndmaData = pd.read_csv('Dataset/Pakistan_Flood_2022_Data_By_NDMA.csv')"
   ]
  },
  {
   "cell_type": "code",
   "execution_count": 3,
   "id": "6ce485cb",
   "metadata": {},
   "outputs": [],
   "source": [
    "df = pd.DataFrame(ndmaData)"
   ]
  },
  {
   "cell_type": "markdown",
   "id": "f22346e5",
   "metadata": {},
   "source": [
    "# Loading Data and Convert Into a DataFrame"
   ]
  },
  {
   "cell_type": "code",
   "execution_count": 4,
   "id": "23a5f2fc",
   "metadata": {},
   "outputs": [
    {
     "data": {
      "text/html": [
       "<div>\n",
       "<style scoped>\n",
       "    .dataframe tbody tr th:only-of-type {\n",
       "        vertical-align: middle;\n",
       "    }\n",
       "\n",
       "    .dataframe tbody tr th {\n",
       "        vertical-align: top;\n",
       "    }\n",
       "\n",
       "    .dataframe thead th {\n",
       "        text-align: right;\n",
       "    }\n",
       "</style>\n",
       "<table border=\"1\" class=\"dataframe\">\n",
       "  <thead>\n",
       "    <tr style=\"text-align: right;\">\n",
       "      <th></th>\n",
       "      <th>Region</th>\n",
       "      <th>Total deaths</th>\n",
       "      <th>M_D</th>\n",
       "      <th>F_D</th>\n",
       "      <th>C_D</th>\n",
       "      <th>total_injured</th>\n",
       "      <th>M_I</th>\n",
       "      <th>F_I</th>\n",
       "      <th>C_I</th>\n",
       "      <th>Roads_damaged(km)</th>\n",
       "      <th>Bridges damaged</th>\n",
       "      <th>Total_houses_damaged</th>\n",
       "      <th>livestock_damaged</th>\n",
       "      <th>Affected population</th>\n",
       "    </tr>\n",
       "  </thead>\n",
       "  <tbody>\n",
       "    <tr>\n",
       "      <th>0</th>\n",
       "      <td>AJ&amp;K</td>\n",
       "      <td>48</td>\n",
       "      <td>31</td>\n",
       "      <td>17</td>\n",
       "      <td>0</td>\n",
       "      <td>24</td>\n",
       "      <td>15</td>\n",
       "      <td>9</td>\n",
       "      <td>0</td>\n",
       "      <td>0</td>\n",
       "      <td>0</td>\n",
       "      <td>548</td>\n",
       "      <td>792</td>\n",
       "      <td>53700</td>\n",
       "    </tr>\n",
       "    <tr>\n",
       "      <th>1</th>\n",
       "      <td>Balochistan</td>\n",
       "      <td>299</td>\n",
       "      <td>136</td>\n",
       "      <td>73</td>\n",
       "      <td>90</td>\n",
       "      <td>181</td>\n",
       "      <td>92</td>\n",
       "      <td>40</td>\n",
       "      <td>49</td>\n",
       "      <td>1850</td>\n",
       "      <td>22</td>\n",
       "      <td>65997</td>\n",
       "      <td>500000</td>\n",
       "      <td>9182616</td>\n",
       "    </tr>\n",
       "    <tr>\n",
       "      <th>2</th>\n",
       "      <td>GB</td>\n",
       "      <td>22</td>\n",
       "      <td>5</td>\n",
       "      <td>11</td>\n",
       "      <td>6</td>\n",
       "      <td>6</td>\n",
       "      <td>3</td>\n",
       "      <td>0</td>\n",
       "      <td>3</td>\n",
       "      <td>16</td>\n",
       "      <td>65</td>\n",
       "      <td>1211</td>\n",
       "      <td>0</td>\n",
       "      <td>51500</td>\n",
       "    </tr>\n",
       "    <tr>\n",
       "      <th>3</th>\n",
       "      <td>ICT</td>\n",
       "      <td>1</td>\n",
       "      <td>1</td>\n",
       "      <td>0</td>\n",
       "      <td>0</td>\n",
       "      <td>0</td>\n",
       "      <td>0</td>\n",
       "      <td>0</td>\n",
       "      <td>0</td>\n",
       "      <td>0</td>\n",
       "      <td>0</td>\n",
       "      <td>0</td>\n",
       "      <td>0</td>\n",
       "      <td>0</td>\n",
       "    </tr>\n",
       "    <tr>\n",
       "      <th>4</th>\n",
       "      <td>KP</td>\n",
       "      <td>306</td>\n",
       "      <td>149</td>\n",
       "      <td>41</td>\n",
       "      <td>116</td>\n",
       "      <td>369</td>\n",
       "      <td>156</td>\n",
       "      <td>79</td>\n",
       "      <td>134</td>\n",
       "      <td>1575</td>\n",
       "      <td>107</td>\n",
       "      <td>91463</td>\n",
       "      <td>21328</td>\n",
       "      <td>4350490</td>\n",
       "    </tr>\n",
       "  </tbody>\n",
       "</table>\n",
       "</div>"
      ],
      "text/plain": [
       "        Region  Total deaths  M_D  F_D  C_D  total_injured  M_I  F_I  C_I  \\\n",
       "0         AJ&K            48   31   17    0             24   15    9    0   \n",
       "1  Balochistan           299  136   73   90            181   92   40   49   \n",
       "2           GB            22    5   11    6              6    3    0    3   \n",
       "3          ICT             1    1    0    0              0    0    0    0   \n",
       "4           KP           306  149   41  116            369  156   79  134   \n",
       "\n",
       "   Roads_damaged(km)  Bridges damaged  Total_houses_damaged  \\\n",
       "0                  0                0                   548   \n",
       "1               1850               22                 65997   \n",
       "2                 16               65                  1211   \n",
       "3                  0                0                     0   \n",
       "4               1575              107                 91463   \n",
       "\n",
       "   livestock_damaged  Affected population  \n",
       "0                792                53700  \n",
       "1             500000              9182616  \n",
       "2                  0                51500  \n",
       "3                  0                    0  \n",
       "4              21328              4350490  "
      ]
     },
     "execution_count": 4,
     "metadata": {},
     "output_type": "execute_result"
    }
   ],
   "source": [
    "df.head()"
   ]
  },
  {
   "cell_type": "markdown",
   "id": "012e6500",
   "metadata": {},
   "source": [
    "# Exploratory Data Analysis"
   ]
  },
  {
   "cell_type": "markdown",
   "id": "af814912",
   "metadata": {},
   "source": [
    "# Stories Crafting and Trends Visualizations"
   ]
  },
  {
   "cell_type": "markdown",
   "id": "f6d50ae0",
   "metadata": {},
   "source": [
    "## 1. Total Deaths Across Different Regions."
   ]
  },
  {
   "cell_type": "markdown",
   "id": "69fe0a1d",
   "metadata": {},
   "source": [
    "## 2. Deaths Grouped By Gender."
   ]
  },
  {
   "cell_type": "markdown",
   "id": "492d386d",
   "metadata": {},
   "source": [
    "## 3. Total Injuries Across Different Regions."
   ]
  },
  {
   "cell_type": "markdown",
   "id": "6baea090",
   "metadata": {},
   "source": [
    "## 4. Injuries Grouped by Gender."
   ]
  },
  {
   "cell_type": "markdown",
   "id": "c2416f97",
   "metadata": {},
   "source": [
    "## 5. Impacts of Flood: Houses Damage Accross Different Regions."
   ]
  },
  {
   "cell_type": "markdown",
   "id": "3b7bb7a1",
   "metadata": {},
   "source": [
    "## 6. Impacts of Flood: Affected Population Accross Different Regions."
   ]
  },
  {
   "cell_type": "markdown",
   "id": "282351b3",
   "metadata": {},
   "source": [
    "## 7. Impacts of Flood: Livestock Damage Accross Different Regions."
   ]
  },
  {
   "cell_type": "markdown",
   "id": "7a3c45e9",
   "metadata": {},
   "source": [
    "## 8. Impacts of Flood: Roads Damage Accross Different Regions."
   ]
  },
  {
   "cell_type": "markdown",
   "id": "50bd0a55",
   "metadata": {},
   "source": [
    "## 9. Impacts of Flood: Bridges Damage Accross Different Regions."
   ]
  },
  {
   "cell_type": "markdown",
   "id": "67af2328",
   "metadata": {},
   "source": [
    "## 10. Scatter Plot: Houses Damaged vs Affected Population."
   ]
  },
  {
   "cell_type": "markdown",
   "id": "2554001f",
   "metadata": {},
   "source": [
    "## 11. Violin Plot: Injuries Distribution Accross Different Regions."
   ]
  },
  {
   "cell_type": "markdown",
   "id": "348a6f71",
   "metadata": {},
   "source": [
    "## 12. Area Chart: Total Impacts Over All Regions."
   ]
  }
 ],
 "metadata": {
  "kernelspec": {
   "display_name": "Python 3 (ipykernel)",
   "language": "python",
   "name": "python3"
  },
  "language_info": {
   "codemirror_mode": {
    "name": "ipython",
    "version": 3
   },
   "file_extension": ".py",
   "mimetype": "text/x-python",
   "name": "python",
   "nbconvert_exporter": "python",
   "pygments_lexer": "ipython3",
   "version": "3.11.5"
  }
 },
 "nbformat": 4,
 "nbformat_minor": 5
}
